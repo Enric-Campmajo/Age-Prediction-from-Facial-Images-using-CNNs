{
 "cells": [
  {
   "cell_type": "code",
   "execution_count": 36,
   "id": "alleged-pilot",
   "metadata": {},
   "source": [
    "import onnx\n",
    "import os\n",
    "import wandb\n",
    "import onnxruntime as ort\n",
    "import numpy as np\n",
    "from utils.utils import *\n",
    "from test import test as evals\n"
   ],
   "outputs": []
  },
  {
   "cell_type": "markdown",
   "id": "standard-consultation",
   "metadata": {},
   "source": [
    "## Loading the model"
   ]
  },
  {
   "cell_type": "code",
   "execution_count": null,
   "id": "killing-hungarian",
   "metadata": {},
   "source": [
    "\n",
    "model = onnx.load(os.getcwd()+\"/model.onnx\")\n",
    "(onnx.checker.check_model(model))"
   ],
   "outputs": []
  },
  {
   "cell_type": "markdown",
   "id": "breathing-territory",
   "metadata": {},
   "source": [
    "## See how the model is saved"
   ]
  },
  {
   "cell_type": "code",
   "execution_count": 47,
   "id": "functioning-amateur",
   "metadata": {},
   "source": [
    "print(model)"
   ],
   "outputs": []
  },
  {
   "cell_type": "markdown",
   "id": "upset-evening",
   "metadata": {},
   "source": [
    "## Recover Data as we had in the training to get the test"
   ]
  },
  {
   "cell_type": "code",
   "execution_count": 38,
   "id": "continued-murder",
   "metadata": {},
   "source": [
    "train, test = get_data(train=True), get_data(train=False)\n",
    "test_loader = make_loader(test, batch_size=128)"
   ],
   "outputs": []
  },
  {
   "cell_type": "markdown",
   "id": "diverse-customer",
   "metadata": {},
   "source": [
    "## Using  the functionalitis fof the onnx"
   ]
  },
  {
   "cell_type": "code",
   "execution_count": 63,
   "id": "sixth-austria",
   "metadata": {},
   "source": [
    "print(test_loader.dataset.dataset.data.float().unsqueeze(0).numpy().shape)"
   ],
   "outputs": []
  },
  {
   "cell_type": "code",
   "execution_count": 85,
   "id": "tired-character",
   "metadata": {},
   "source": [
    "ort_sess = ort.InferenceSession(os.getcwd()+\"/model.onnx\")\n",
    "ort_input = {ort_sess.get_inputs()[0].name: test_loader.dataset.dataset.data.float().unsqueeze(1).numpy()} # The unsqueeze because the session is expecting a batch dimension\n",
    "\n",
    "# Making the run session\n",
    "outputs = ort_sess.run(None, ort_input)[-1]\n",
    "predicted, actual = outputs.argmax(1), test_loader.dataset.dataset.targets.numpy()\n"
   ],
   "outputs": []
  },
  {
   "cell_type": "code",
   "execution_count": 87,
   "id": "loose-juice",
   "metadata": {},
   "source": [
    "print(\"The accuracy is: \",np.sum(predicted == actual)/actual.shape[0])\n"
   ],
   "outputs": []
  },
  {
   "cell_type": "code",
   "execution_count": null,
   "id": "bridal-credits",
   "metadata": {},
   "source": [],
   "outputs": []
  }
 ],
 "metadata": {
  "kernelspec": {
   "display_name": "Python 3 (ipykernel)",
   "language": "python",
   "name": "python3"
  },
  "language_info": {
   "codemirror_mode": {
    "name": "ipython",
    "version": 3
   },
   "file_extension": ".py",
   "mimetype": "text/x-python",
   "name": "python",
   "nbconvert_exporter": "python",
   "pygments_lexer": "ipython3",
   "version": "3.8.5"
  }
 },
 "nbformat": 4,
 "nbformat_minor": 5
}
